{
 "cells": [
  {
   "cell_type": "markdown",
   "metadata": {},
   "source": [
    "## 用tf.keras.dataset处理预置数据集\n",
    "```\n",
    "boston_housing module: Boston housing price regression dataset.\n",
    "\n",
    "cifar10 module: CIFAR10 small images classification dataset.\n",
    "\n",
    "cifar100 module: CIFAR100 small images classification dataset.\n",
    "\n",
    "fashion_mnist module: Fashion-MNIST dataset.\n",
    "\n",
    "imdb module: IMDB sentiment classification dataset.\n",
    "\n",
    "mnist module: MNIST handwritten digits dataset.\n",
    "\n",
    "reuters module: Reuters topic classification dataset.\n",
    "```\n",
    "- https://www.tensorflow.org/api_docs/python/tf/keras/datasets?hl=zh-cn"
   ]
  },
  {
   "cell_type": "code",
   "execution_count": 1,
   "metadata": {},
   "outputs": [],
   "source": [
    "import tensorflow as tf"
   ]
  },
  {
   "cell_type": "code",
   "execution_count": 2,
   "metadata": {},
   "outputs": [],
   "source": [
    "mnist = tf.keras.datasets.mnist"
   ]
  },
  {
   "cell_type": "code",
   "execution_count": 3,
   "metadata": {},
   "outputs": [
    {
     "name": "stdout",
     "output_type": "stream",
     "text": [
      "Downloading data from https://storage.googleapis.com/tensorflow/tf-keras-datasets/mnist.npz\n",
      "11493376/11490434 [==============================] - 2s 0us/step\n"
     ]
    }
   ],
   "source": [
    "dataset = mnist.load_data()"
   ]
  },
  {
   "cell_type": "code",
   "execution_count": null,
   "metadata": {},
   "outputs": [],
   "source": []
  }
 ],
 "metadata": {
  "kernelspec": {
   "display_name": "Python 3",
   "language": "python",
   "name": "python3"
  },
  "language_info": {
   "codemirror_mode": {
    "name": "ipython",
    "version": 3
   },
   "file_extension": ".py",
   "mimetype": "text/x-python",
   "name": "python",
   "nbconvert_exporter": "python",
   "pygments_lexer": "ipython3",
   "version": "3.6.10"
  }
 },
 "nbformat": 4,
 "nbformat_minor": 4
}
